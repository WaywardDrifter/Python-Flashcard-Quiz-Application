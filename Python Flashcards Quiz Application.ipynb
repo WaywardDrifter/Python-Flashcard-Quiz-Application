{
 "cells": [
  {
   "cell_type": "markdown",
   "id": "059a7378-0b15-4940-ba31-3996082f07cc",
   "metadata": {},
   "source": [
    "# Python Flashcard Quiz Application\n",
    "\n",
    "This interactive flashcard quiz application helps you review Python programming concepts from the Codecademy Python 3 course. Run the code cell below to start the quiz and see questions in the output area!\n",
    "\n",
    "## Instructions\n",
    "- Run the code cell by clicking it and pressing `Shift+Enter`.\n",
    "- The quiz will ask 5 random questions from 45 flashcards, one at a time (e.g., \"Category: Basics\" and \"Question: What is a variable?\").\n",
    "- For each question, type your answer at the prompt (\"Your answer (or type 'hint' for a hint):\") and press Enter.\n",
    "- Type \"hint\" to see a hint for the question (if available), then answer again.\n",
    "- You'll get feedback (\"Correct!\" or \"Incorrect...\") per question and a final score (e.g., \"4/5 (80.0%)\").\n",
    "- All questions are formatted clearly (e.g., \"What is a list?\" or \"What does print() do?\").\n",
    "- **Study Tip**: Write down any questions you miss to review those concepts later. If a question feels unclear, note it for adding hints or examples.\n",
    "\n",
    "## Features\n",
    "- 45 flashcards organized into 7 subcategories: Basics, Data Structures, Control Flow, Functions, Modules, Data Science, and Advanced.\n",
    "- Random question selection with no repeats within a quiz.\n",
    "- Flexible answer-checking accepting partial answers (e.g., \"mutable\" for \"What is a list?\").\n",
    "- Hint system for selected questions (currently 5 hints) to aid learning without reducing challenge.\n",
    "- Score tracking with percentage display.\n",
    "\n",
    "## Planned Features\n",
    "- Expand the number of hints to cover more questions, enhancing clarity for complex concepts.\n",
    "- Increase the number of flashcards to include additional Python topics and deepen coverage.\n",
    "- Category-specific quizzes to focus on specific topics (e.g., Functions only).\n",
    "- Review mode for missed questions to reinforce weak areas.\n",
    "- Customizable question count for flexible study sessions.\n",
    "- Progress tracking to save scores and monitor improvement over time.\n",
    "\n",
    "## Topics Covered\n",
    "- Fully covers the Codecademy Python 3 course, including variables, data structures, loops, functions, modules, exceptions, and data science libraries.\n",
    "\n",
    "**Note**: The code is visible in this notebook for learning purposes. To share a polished version showing only questions and answers, export as HTML (File > Download as > HTML) or PDF (File > Print Preview > Save as PDF). This project is actively maintained, with planned enhancements to expand content and functionality."
   ]
  },
  {
   "cell_type": "code",
   "execution_count": 1,
   "id": "d7c14fb3-da24-4061-8e22-2b82cfb10583",
   "metadata": {},
   "outputs": [
    {
     "name": "stdout",
     "output_type": "stream",
     "text": [
      "Starting quiz with 5 questions...\n",
      "\n",
      "Question 1 of 5 (Category: Modules)\n",
      "Question: What is the math module?\n"
     ]
    },
    {
     "name": "stdin",
     "output_type": "stream",
     "text": [
      "Your answer (or type 'hint' for a hint):  A module for mathematical operations\n"
     ]
    },
    {
     "name": "stdout",
     "output_type": "stream",
     "text": [
      "Correct!\n",
      "\n",
      "Question 2 of 5 (Category: Functions)\n",
      "Question: What is a function?\n"
     ]
    },
    {
     "name": "stdin",
     "output_type": "stream",
     "text": [
      "Your answer (or type 'hint' for a hint):  A reusable block of code\n"
     ]
    },
    {
     "name": "stdout",
     "output_type": "stream",
     "text": [
      "Correct!\n",
      "\n",
      "Question 3 of 5 (Category: Basics)\n",
      "Question: What is type()?\n"
     ]
    },
    {
     "name": "stdin",
     "output_type": "stream",
     "text": [
      "Your answer (or type 'hint' for a hint):  Returns the data type of a value\n"
     ]
    },
    {
     "name": "stdout",
     "output_type": "stream",
     "text": [
      "Correct!\n",
      "\n",
      "Question 4 of 5 (Category: Control Flow)\n",
      "Question: What is a for loop?\n"
     ]
    },
    {
     "name": "stdin",
     "output_type": "stream",
     "text": [
      "Your answer (or type 'hint' for a hint):  hint\n"
     ]
    },
    {
     "name": "stdout",
     "output_type": "stream",
     "text": [
      "Hint: No hint available.\n"
     ]
    },
    {
     "name": "stdin",
     "output_type": "stream",
     "text": [
      "Your answer (or type 'hint' for a hint):  It loops\n"
     ]
    },
    {
     "name": "stdout",
     "output_type": "stream",
     "text": [
      "Incorrect. The answer is: Iterates over a sequence, e.g., for i in range(5):\n",
      "\n",
      "Question 5 of 5 (Category: Functions)\n",
      "Question: What is a default parameter?\n"
     ]
    },
    {
     "name": "stdin",
     "output_type": "stream",
     "text": [
      "Your answer (or type 'hint' for a hint):  A parameter with a default value\n"
     ]
    },
    {
     "name": "stdout",
     "output_type": "stream",
     "text": [
      "Correct!\n",
      "\n",
      "Quiz complete! Your score: 4/5 (80.0%)\n"
     ]
    }
   ],
   "source": [
    "# Import the random module to shuffle questions\n",
    "import random\n",
    "\n",
    "# Dictionary of flashcards, grouped by subcategory\n",
    "flashcards = {\n",
    "    \"Basics\": {\"What is a variable?\": \"A named storage location for data, e.g., x = 5\",\n",
    "        \"What is a string?\": \"A sequence of characters, e.g., 'hello' or \\\"world\\\"\",\n",
    "        \"What does print() do?\": \"Outputs data to the console, e.g., print('Hello') displays Hello\",\n",
    "        \"What is an integer?\": \"A whole number, e.g., 42 or -7\",\n",
    "        \"What is type()?\": \"Returns the data type of a value, e.g., type(5) returns int\",\n",
    "        \"What is a boolean?\": \"A data type with True or False values\",\n",
    "        \"What is the % operator?\": \"Modulo operator, returns remainder, e.g., 5 % 2 returns 1\",\n",
    "        \"What does string concatenation do?\": \"Combining strings, e.g., 'hello' + 'world' returns 'helloworld'\"},\n",
    "    \"Data Structures\": {\"What is a list?\": \"A mutable, ordered collection of items, e.g., [1, 2, 3]\",\n",
    "        \"What is a dictionary?\": \"A collection of key-value pairs, e.g., {'key': 'value'}\",\n",
    "        \"What is a tuple?\": \"An immutable, ordered collection, e.g., (1, 2, 3)\",\n",
    "        \"What is a set?\": \"An unordered collection of unique items, e.g., {1, 2, 3}\",\n",
    "        \"What is a list comprehension?\": \"A concise one-liner to create lists using a loop, e.g., [x*2 for x in range(5)]\",\n",
    "        \"What does list slicing do?\": \"Extracts a portion of a list, also called slicing, e.g., my_list[1:3]\",\n",
    "        \"What does string slicing do?\": \"Extracts part of a string, also called slicing, e.g., 'hello'[1:4] returns 'ell'\",\n",
    "        \"What is a nested list?\": \"A list within a list, e.g., [[1, 2], [3, 4]]\"},\n",
    "    \"Control Flow\": {\"What is an if statement?\": \"Executes code based on a condition, e.g., if x > 0:\",\n",
    "        \"What is a for loop?\": \"Iterates over a sequence, e.g., for i in range(5):\",\n",
    "        \"What is a while loop?\": \"Repeats code while a condition is true, e.g., while x < 5:\",\n",
    "        \"What does break do?\": \"Exits a loop early, e.g., break in a for loop\",\n",
    "        \"What is continue?\": \"Skips to the next loop iteration, e.g., continue in a loop\",\n",
    "        \"What is an elif statement?\": \"Checks additional conditions, e.g., if x > 0: ... elif x == 0: ...\"},\n",
    "    \"Functions\": {\"What is a function?\": \"A reusable block of code, e.g., def my_func():\",\n",
    "        \"What is a lambda function?\": \"An anonymous function defined with lambda, also called a lambda expression, e.g., lambda x: x*2\",\n",
    "        \"What does return do?\": \"Exits a function and sends back a value, e.g., return x\",\n",
    "        \"What is a parameter?\": \"A variable in a function definition, e.g., def func(x): where x is the parameter\",\n",
    "        \"What is a default parameter?\": \"A parameter with a default value, e.g., def func(x=0):\",\n",
    "        \"What is variable scope?\": \"The visibility of variables, e.g., local vs. global variables, determining where a variable can be accessed\",\n",
    "        \"What is a keyword argument?\": \"Argument passed by name, e.g., func(name='Alice')\"},\n",
    "    \"Modules\": {\"What is a module?\": \"A file containing Python code, imported with import, e.g., import math\",\n",
    "        \"What is the random module?\": \"A module for generating random numbers, e.g., random.choice()\",\n",
    "        \"What is the math module?\": \"A module for mathematical operations, e.g., math.sqrt(16)\",\n",
    "        \"What does import do?\": \"Brings a module into the current program, e.g., import random\",\n",
    "        \"What does random.randint() do?\": \"Returns a random integer in a range, e.g., random.randint(1, 10)\"},\n",
    "    \"Data Science\": {\"What is pandas?\": \"A Python library for data manipulation and analysis\",\n",
    "        \"What is len() used for?\": \"Returns the length of an object, e.g., len([1, 2, 3]) returns 3\",\n",
    "        \"What is numpy?\": \"A library for numerical computations, e.g., arrays and math operations\",\n",
    "        \"What is a DataFrame?\": \"A pandas structure for tabular data, like a spreadsheet\",\n",
    "        \"What is matplotlib?\": \"A library for creating visualizations, e.g., plots and charts\",\n",
    "        \"What is plt.plot()?\": \"A matplotlib function to create a line plot, e.g., plt.plot([1, 2], [3, 4])\"},\n",
    "    \"Advanced\": {\"What is a string method?\": \"A function that operates on strings, e.g., .upper() or .split()\",\n",
    "        \"What is try/except?\": \"Handles errors, e.g., try: x = 1/0 except ZeroDivisionError:\",\n",
    "        \"What is file I/O?\": \"Reading from or writing to files, e.g., open('file.txt', 'r')\",\n",
    "        \"What is an exception?\": \"An error that occurs during execution, e.g., ValueError\",\n",
    "        \"What does .join() do?\": \"Combines a list of strings, e.g., ' '.join(['a', 'b']) returns 'a b'\",\n",
    "        \"What is a TypeError?\": \"An exception for invalid type operations, e.g., '1' + 1 raises TypeError\"}}\n",
    "\n",
    "# Dictionary of hints for selected questions\n",
    "hints = {(\"Functions\", \"What is a lambda function?\"): \"Think of a short, unnamed function often used in one line, like for sorting or mapping.\",\n",
    "    (\"Data Structures\", \"What is a list comprehension?\"): \"Imagine a loop that creates a list in a single line, like condensing 'for x in range...' into brackets.\",\n",
    "    (\"Data Structures\", \"What does string slicing do?\"): \"Think of cutting a portion of a string using start and end indices, like picking letters from 'hello'.\",\n",
    "    (\"Data Structures\", \"What does list slicing do?\"): \"Similar to string slicing, but for lists, using indices to extract a subset.\",\n",
    "    (\"Functions\", \"What is variable scope?\"): \"Consider where a variable can be used, like inside a function (local) or outside (global).\"}\n",
    "\n",
    "# Function to show a hint for a question\n",
    "def show_hint(category, term):\n",
    "    hint = hints.get((category, term), \"No hint available.\")\n",
    "    print(f\"Hint: {hint}\")\n",
    "\n",
    "# Function to run the quiz with a specified number of questions\n",
    "def run_quiz(num_questions=5):\n",
    "    # Flatten the dictionary to a list of (category, term, answer) tuples\n",
    "    all_questions = [(category, term, flashcards[category][term]) \n",
    "                     for category in flashcards \n",
    "                     for term in flashcards[category]]\n",
    "    \n",
    "    # Ensure num_questions doesn't exceed available questions\n",
    "    num_questions = min(num_questions, len(all_questions))\n",
    "    if num_questions == 0:\n",
    "        print(\"No questions available!\")\n",
    "        return\n",
    "    \n",
    "    # Select random questions without repeats\n",
    "    selected_questions = random.sample(all_questions, num_questions)\n",
    "    \n",
    "    # Initialize score\n",
    "    score = 0\n",
    "    \n",
    "    # Ask each question\n",
    "    print(f\"Starting quiz with {num_questions} questions...\")\n",
    "    for i, (category, term, answer) in enumerate(selected_questions, 1):\n",
    "        print(f\"\\nQuestion {i} of {num_questions} (Category: {category})\")\n",
    "        print(f\"Question: {term}\")\n",
    "        \n",
    "        # Keep asking until a non-hint answer is given\n",
    "        while True:\n",
    "            user_answer = input(\"Your answer (or type 'hint' for a hint): \").strip().lower()\n",
    "            if user_answer == \"hint\":\n",
    "                show_hint(category, term)\n",
    "            else:\n",
    "                break\n",
    "        \n",
    "        correct_answer = answer.lower()\n",
    "        \n",
    "        # Check if the answer is correct\n",
    "        if user_answer in correct_answer or user_answer == correct_answer:\n",
    "            print(\"Correct!\")\n",
    "            score += 1\n",
    "        else:\n",
    "            print(f\"Incorrect. The answer is: {answer}\")\n",
    "    \n",
    "    # Display final score\n",
    "    print(f\"\\nQuiz complete! Your score: {score}/{num_questions} ({score/num_questions*100:.1f}%)\")\n",
    "\n",
    "# Run the quiz with 5 questions\n",
    "run_quiz(5)"
   ]
  },
  {
   "cell_type": "code",
   "execution_count": null,
   "id": "39ac2110-1fe2-4043-b410-3b45e6c02594",
   "metadata": {},
   "outputs": [],
   "source": []
  }
 ],
 "metadata": {
  "kernelspec": {
   "display_name": "Python 3 (ipykernel)",
   "language": "python",
   "name": "python3"
  },
  "language_info": {
   "codemirror_mode": {
    "name": "ipython",
    "version": 3
   },
   "file_extension": ".py",
   "mimetype": "text/x-python",
   "name": "python",
   "nbconvert_exporter": "python",
   "pygments_lexer": "ipython3",
   "version": "3.10.18"
  }
 },
 "nbformat": 4,
 "nbformat_minor": 5
}
